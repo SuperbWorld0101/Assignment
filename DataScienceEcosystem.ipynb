{
 "cells": [
  {
   "cell_type": "markdown",
   "id": "1941f844-06f1-4bc0-9814-398759f54600",
   "metadata": {},
   "source": [
    "# Data Science Tools and Ecosystem"
   ]
  },
  {
   "cell_type": "markdown",
   "id": "f6f55a18-0e90-4b0a-beff-05f59c5f8139",
   "metadata": {},
   "source": [
    "In this notebook,Data Science Tools and Ecosystem are summarized."
   ]
  },
  {
   "cell_type": "markdown",
   "id": "c0888927-b64e-4622-9f4b-9d8dcbdaf47d",
   "metadata": {},
   "source": [
    "**Objectives:**\n",
    "- List common used languages by Data Scientists\n",
    "- List poplular Data Scientice Tools\n",
    "- List frequently used libraries"
   ]
  },
  {
   "cell_type": "markdown",
   "id": "389e28db-0891-4d24-863a-c3c84576cc17",
   "metadata": {},
   "source": [
    "Some of the popular languages that Data Scientists use are:\n",
    "1. Python\n",
    "2. R\n",
    "3. Scala"
   ]
  },
  {
   "cell_type": "markdown",
   "id": "63cc06b2-bf92-44c3-8546-f13556674a22",
   "metadata": {},
   "source": [
    "Some of the commonly used libraries used by Data Scientists include:\n",
    "1. Panda\n",
    "2. Numpy\n",
    "3. Apache Spark"
   ]
  },
  {
   "cell_type": "markdown",
   "id": "528f4615-6732-43d3-8a65-7bae3392344b",
   "metadata": {},
   "source": [
    "| Data Science Tools |\n",
    "----------------\n",
    "| Computational Notebooks |\n",
    "| Jupyter Notebook |\n",
    "| Anaconda |"
   ]
  },
  {
   "cell_type": "markdown",
   "id": "9e65c641-45a8-428e-a170-d5f509efd961",
   "metadata": {},
   "source": [
    "### Below are a few examples of evaluating arithmetic expressions in Python:"
   ]
  },
  {
   "cell_type": "markdown",
   "id": "cc06ab30-7313-4d03-9cfa-6cc6f703aefe",
   "metadata": {},
   "source": [
    "This is a simple arithmetic expression to multiply then add integers"
   ]
  },
  {
   "cell_type": "code",
   "execution_count": 18,
   "id": "e3bd9cf5-85e1-4687-8e91-3a5ca6d32cd4",
   "metadata": {},
   "outputs": [
    {
     "data": {
      "text/plain": [
       "17"
      ]
     },
     "execution_count": 18,
     "metadata": {},
     "output_type": "execute_result"
    }
   ],
   "source": [
    "# Multiplicatin and addition operation\n",
    "(3*4)+5"
   ]
  },
  {
   "cell_type": "markdown",
   "id": "032e0b97-2dc6-494e-b642-43ed8bf844e7",
   "metadata": {},
   "source": [
    "This will convert 200 minutes to hours by dividing by 60"
   ]
  },
  {
   "cell_type": "code",
   "execution_count": 18,
   "id": "6a209d50-3de6-4ca9-acb3-3ba04355e124",
   "metadata": {},
   "outputs": [
    {
     "name": "stdout",
     "output_type": "stream",
     "text": [
      "3.3333333333333335\n"
     ]
    }
   ],
   "source": [
    "def minutes_to_hours(minutes):\n",
    "    return minutes / 60\n",
    "\n",
    "result = minutes_to_hours(200)\n",
    "print(result)"
   ]
  },
  {
   "cell_type": "markdown",
   "id": "5f3f8128-ca7f-424e-a8a8-9bc50b3f3f39",
   "metadata": {},
   "source": [
    "## Author\n",
    "Xueying Sun"
   ]
  },
  {
   "cell_type": "code",
   "execution_count": null,
   "id": "a28772dc-bd93-4471-b067-d393e5397e16",
   "metadata": {},
   "outputs": [],
   "source": []
  }
 ],
 "metadata": {
  "kernelspec": {
   "display_name": "Python 3 (ipykernel)",
   "language": "python",
   "name": "python3"
  },
  "language_info": {
   "codemirror_mode": {
    "name": "ipython",
    "version": 3
   },
   "file_extension": ".py",
   "mimetype": "text/x-python",
   "name": "python",
   "nbconvert_exporter": "python",
   "pygments_lexer": "ipython3",
   "version": "3.11.9"
  }
 },
 "nbformat": 4,
 "nbformat_minor": 5
}
